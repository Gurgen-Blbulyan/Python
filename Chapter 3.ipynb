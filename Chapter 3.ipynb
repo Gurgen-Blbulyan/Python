{
 "cells": [
  {
   "cell_type": "code",
   "execution_count": 78,
   "metadata": {},
   "outputs": [
    {
     "data": {
      "text/plain": [
       "['apple', 'orange', 'banana', 'watermelon']"
      ]
     },
     "execution_count": 78,
     "metadata": {},
     "output_type": "execute_result"
    }
   ],
   "source": [
    "fruit=['apple','orange','banana','watermelon'] \n",
    "fruit"
   ]
  },
  {
   "cell_type": "code",
   "execution_count": 79,
   "metadata": {},
   "outputs": [
    {
     "name": "stdout",
     "output_type": "stream",
     "text": [
      "apple\n",
      "watermelon\n"
     ]
    }
   ],
   "source": [
    "print(fruit[0])\n",
    "print(fruit[-1])"
   ]
  },
  {
   "cell_type": "code",
   "execution_count": 80,
   "metadata": {},
   "outputs": [
    {
     "data": {
      "text/plain": [
       "['apple', 'orange', 'banana', 'melon']"
      ]
     },
     "execution_count": 80,
     "metadata": {},
     "output_type": "execute_result"
    }
   ],
   "source": [
    "fruit[3]='melon'\n",
    "fruit"
   ]
  },
  {
   "cell_type": "code",
   "execution_count": 81,
   "metadata": {},
   "outputs": [
    {
     "data": {
      "text/plain": [
       "['apple', 'orange', 'banana', 'melon', 'cherry']"
      ]
     },
     "execution_count": 81,
     "metadata": {},
     "output_type": "execute_result"
    }
   ],
   "source": [
    "fruit.append('cherry')\n",
    "fruit"
   ]
  },
  {
   "cell_type": "code",
   "execution_count": 83,
   "metadata": {},
   "outputs": [
    {
     "name": "stdout",
     "output_type": "stream",
     "text": [
      "[]\n",
      "['football']\n",
      "['basketball', 'football']\n",
      "['basketball', 'football', 'karate', 'kung fu']\n",
      "['basketball', 'football', 'karate']\n"
     ]
    }
   ],
   "source": [
    "sport=[]\n",
    "print(sport)\n",
    "sport.append('football')\n",
    "print(sport)\n",
    "sport.insert(0,'basketball')\n",
    "print(sport)\n",
    "sport.append('karate')\n",
    "sport.append('kung fu')\n",
    "print(sport)\n",
    "del sport[3]\n",
    "print(sport)"
   ]
  },
  {
   "cell_type": "code",
   "execution_count": 84,
   "metadata": {},
   "outputs": [
    {
     "name": "stdout",
     "output_type": "stream",
     "text": [
      "football\n",
      "['basketball', 'karate']\n"
     ]
    }
   ],
   "source": [
    "poped=sport.pop(1)\n",
    "print(poped)\n",
    "print(sport)"
   ]
  },
  {
   "cell_type": "code",
   "execution_count": 85,
   "metadata": {},
   "outputs": [
    {
     "data": {
      "text/plain": [
       "['basketball', 'karate', 'football', 'judo', 'rugby']"
      ]
     },
     "execution_count": 85,
     "metadata": {},
     "output_type": "execute_result"
    }
   ],
   "source": [
    "sport.append(\"football\")\n",
    "sport.append(\"judo\")\n",
    "sport.append('rugby')\n",
    "sport"
   ]
  },
  {
   "cell_type": "code",
   "execution_count": 86,
   "metadata": {},
   "outputs": [
    {
     "name": "stdout",
     "output_type": "stream",
     "text": [
      "['basketball', 'karate', 'football', 'judo']\n"
     ]
    }
   ],
   "source": [
    "danger='rugby'\n",
    "sport.remove(danger)\n",
    "print(sport)"
   ]
  },
  {
   "cell_type": "code",
   "execution_count": 104,
   "metadata": {},
   "outputs": [
    {
     "name": "stdout",
     "output_type": "stream",
     "text": [
      "Welcom to my home dear Pogos \n",
      "Welcom to my home dear Petros \n",
      "Welcom to my home dear Martiros \n"
     ]
    }
   ],
   "source": [
    "name=[\"pogos\",\"petros\",\"martiros\"]\n",
    "print(f'Welcom to my home dear {name[0].title()} ')\n",
    "print(f'Welcom to my home dear {name[1].title()} ')\n",
    "print(f'Welcom to my home dear {name[2].title()} ')"
   ]
  },
  {
   "cell_type": "code",
   "execution_count": 105,
   "metadata": {},
   "outputs": [
    {
     "name": "stdout",
     "output_type": "stream",
     "text": [
      "Petros\n"
     ]
    }
   ],
   "source": [
    "deny=name[1].title()\n",
    "print(deny)"
   ]
  },
  {
   "cell_type": "code",
   "execution_count": 107,
   "metadata": {},
   "outputs": [
    {
     "name": "stdout",
     "output_type": "stream",
     "text": [
      "['pogos', 'justin', 'valod', 'martiros', 'misha']\n"
     ]
    }
   ],
   "source": [
    "name[1]='valod'\n",
    "name.insert(1,'justin')\n",
    "name.append('misha')\n",
    "print(name)"
   ]
  },
  {
   "cell_type": "code",
   "execution_count": 109,
   "metadata": {},
   "outputs": [
    {
     "name": "stdout",
     "output_type": "stream",
     "text": [
      "['justin', 'martiros', 'misha', 'pogos', 'valod']\n"
     ]
    }
   ],
   "source": [
    "name.sort()\n",
    "print(name)"
   ]
  },
  {
   "cell_type": "code",
   "execution_count": 116,
   "metadata": {},
   "outputs": [
    {
     "name": "stdout",
     "output_type": "stream",
     "text": [
      "None\n",
      "['valod', 'pogos', 'misha', 'martiros', 'justin']\n"
     ]
    }
   ],
   "source": [
    "name.sort(reverse=True)\n",
    "print(name)"
   ]
  },
  {
   "cell_type": "code",
   "execution_count": 121,
   "metadata": {},
   "outputs": [
    {
     "name": "stdout",
     "output_type": "stream",
     "text": [
      "['justin', 'martiros', 'misha', 'pogos', 'valod']\n",
      "['valod', 'pogos', 'misha', 'martiros', 'justin']\n",
      "['pogos', 'justin', 'valod', 'martiros', 'misha']\n"
     ]
    }
   ],
   "source": [
    "name=['pogos', 'justin', 'valod', 'martiros', 'misha']\n",
    "print(sorted(name))\n",
    "print(sorted(name,reverse=True))\n",
    "print(name)"
   ]
  },
  {
   "cell_type": "code",
   "execution_count": 122,
   "metadata": {},
   "outputs": [
    {
     "name": "stdout",
     "output_type": "stream",
     "text": [
      "['A', 'B', 'a', 'b']\n"
     ]
    }
   ],
   "source": [
    "t=['A','a','b','B']\n",
    "t.sort()\n",
    "print(t)"
   ]
  },
  {
   "cell_type": "code",
   "execution_count": 123,
   "metadata": {},
   "outputs": [
    {
     "name": "stdout",
     "output_type": "stream",
     "text": [
      "['pogos', 'justin', 'valod', 'martiros', 'misha']\n",
      "['misha', 'martiros', 'valod', 'justin', 'pogos']\n"
     ]
    }
   ],
   "source": [
    "print(name)\n",
    "name.reverse()\n",
    "print(name)"
   ]
  },
  {
   "cell_type": "code",
   "execution_count": 124,
   "metadata": {},
   "outputs": [
    {
     "data": {
      "text/plain": [
       "5"
      ]
     },
     "execution_count": 124,
     "metadata": {},
     "output_type": "execute_result"
    }
   ],
   "source": [
    "len(name)"
   ]
  },
  {
   "cell_type": "code",
   "execution_count": null,
   "metadata": {},
   "outputs": [],
   "source": []
  }
 ],
 "metadata": {
  "kernelspec": {
   "display_name": "Python 3",
   "language": "python",
   "name": "python3"
  },
  "language_info": {
   "codemirror_mode": {
    "name": "ipython",
    "version": 3
   },
   "file_extension": ".py",
   "mimetype": "text/x-python",
   "name": "python",
   "nbconvert_exporter": "python",
   "pygments_lexer": "ipython3",
   "version": "3.7.3"
  }
 },
 "nbformat": 4,
 "nbformat_minor": 2
}
